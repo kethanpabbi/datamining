{
  "nbformat": 4,
  "nbformat_minor": 0,
  "metadata": {
    "colab": {
      "name": "121102356 - Data Mining - Second Assignment.ipynb",
      "provenance": [],
      "collapsed_sections": [
        "Oav9G1WSJ1nH",
        "MTvkBPQvITf-",
        "zADpr0f8IcGL",
        "uG-cLcTncpHW",
        "Gdy4gpfu1FMY",
        "cz-mv-lB8CNW",
        "U7Wm8wJRIhwh"
      ],
      "machine_shape": "hm"
    },
    "kernelspec": {
      "name": "python3",
      "display_name": "Python 3"
    },
    "language_info": {
      "name": "python"
    },
    "accelerator": "GPU"
  },
  "cells": [
    {
      "cell_type": "markdown",
      "source": [
        "# CS3033/CS6405 - Data Mining - Second Assignment\n",
        "\n",
        "### Submission\n",
        "\n",
        "This assignment is **due on 06/04/22 at 23:59**. You should submit a single .ipnyb file with your python code and analysis electronically via Canvas.\n",
        "Please note that this assignment will account for 25 Marks of your module grade.\n",
        "\n",
        "### Declaration\n",
        "\n",
        "By submitting this assignment. I agree to the following:\n",
        "\n",
        "<font color=\"red\">“I have read and understand the UCC academic policy on plagiarism, and agree to the requirements set out thereby in relation to plagiarism and referencing. I confirm that I have referenced and acknowledged properly all sources used in the preparation of this assignment.\n",
        "I declare that this assignment is entirely my own work based on my personal study. I further declare that I have not engaged the services of another to either assist me in, or complete this assignment”</font>\n",
        "\n",
        "### Objective\n",
        "\n",
        "The Boolean satisfiability (SAT) problem consists in determining whether a Boolean formula F is satisfiable or not. F is represented by a pair (X, C), where X is a set of Boolean variables and C is a set of clauses in Conjunctive Normal Form (CNF). Each clause is a disjunction of literals (a variable or its negation). This problem is one of the most widely studied combinatorial problems in computer science. It is the classic NP-complete problem. Over the past number of decades, a significant amount of research work has focused on solving SAT problems with both complete and incomplete solvers.\n",
        "\n",
        "Recent advances in supervised learning have provided powerful techniques for classifying problems. In this project, we see the SAT problem as a classification problem. Given a Boolean formula (represented by a vector of features), we are asked to predict if it is satisfiable or not.\n",
        "\n",
        "In this project, we represent SAT problems with a vector of 327 features with general information about the problem, e.g., number of variables, number of clauses, fraction of horn clauses in the problem, etc. There is no need to understand the features to be able to complete the assignment.\n",
        "\n",
        "The dataset is available at:\n",
        "https://github.com/andvise/DataAnalyticsDatasets/blob/main/dm_assignment2/sat_dataset_train.csv\n",
        "\n",
        "This is original unpublished data."
      ],
      "metadata": {
        "id": "8WfrCFmLHxYu"
      }
    },
    {
      "cell_type": "markdown",
      "source": [
        "## Data Preparation"
      ],
      "metadata": {
        "id": "Oav9G1WSJ1nH"
      }
    },
    {
      "cell_type": "code",
      "source": [
        "import pandas as pd\n",
        "\n",
        "df = pd.read_csv(\"https://github.com/andvise/DataAnalyticsDatasets/blob/6d5738101d173b97c565f143f945dedb9c42a400/dm_assignment2/sat_dataset_train.csv?raw=true\")\n",
        "df.head()"
      ],
      "metadata": {
        "colab": {
          "base_uri": "https://localhost:8080/",
          "height": 300
        },
        "id": "DE0kM0QsJ1En",
        "outputId": "b2a1c503-035e-4426-bec6-a36c0afb7ec9"
      },
      "execution_count": 154,
      "outputs": [
        {
          "output_type": "execute_result",
          "data": {
            "text/plain": [
              "     c   v  clauses_vars_ratio  vars_clauses_ratio  vcg_var_mean  \\\n",
              "0  420  10           42.000000            0.023810      0.600000   \n",
              "1  230  20           11.500000            0.086957      0.137826   \n",
              "2  240  16           15.000000            0.066667      0.300000   \n",
              "3  424  30           14.133333            0.070755      0.226415   \n",
              "4  162  19            8.526316            0.117284      0.139701   \n",
              "\n",
              "   vcg_var_coeff  vcg_var_min  vcg_var_max  vcg_var_entropy  vcg_clause_mean  \\\n",
              "0       0.000000     0.600000     0.600000         0.000000         0.600000   \n",
              "1       0.089281     0.117391     0.160870         2.180946         0.137826   \n",
              "2       0.000000     0.300000     0.300000         0.000000         0.300000   \n",
              "3       0.485913     0.056604     0.452830         2.220088         0.226415   \n",
              "4       0.121821     0.111111     0.185185         1.940843         0.139701   \n",
              "\n",
              "   ...  rwh_0_max    rwh_1_mean  rwh_1_coeff     rwh_1_min     rwh_1_max  \\\n",
              "0  ...    78750.0      0.000008          0.0  7.875000e-06      0.000008   \n",
              "1  ...  6646875.0  17433.722184          1.0  2.981244e-12  34867.444369   \n",
              "2  ...   500000.0   1525.878932          0.0  1.525879e+03   1525.878932   \n",
              "3  ...    87500.0      0.000122          1.0  6.535723e-14      0.000245   \n",
              "4  ...  5859400.0  16591.494310          1.0  6.912726e-42  33182.988621   \n",
              "\n",
              "     rwh_2_mean  rwh_2_coeff     rwh_2_min     rwh_2_max  target  \n",
              "0  2.385082e-21          0.0  2.385082e-21  2.385082e-21       1  \n",
              "1  1.727721e+04          1.0  1.358551e-53  3.455442e+04       0  \n",
              "2  1.525879e+03          0.0  1.525879e+03  1.525879e+03       1  \n",
              "3  8.218628e-07          1.0  1.499676e-61  1.643726e-06       0  \n",
              "4  1.665903e+04          1.0  0.000000e+00  3.331807e+04       1  \n",
              "\n",
              "[5 rows x 328 columns]"
            ],
            "text/html": [
              "\n",
              "  <div id=\"df-f2427ad7-76af-442c-8b16-098f522cc73c\">\n",
              "    <div class=\"colab-df-container\">\n",
              "      <div>\n",
              "<style scoped>\n",
              "    .dataframe tbody tr th:only-of-type {\n",
              "        vertical-align: middle;\n",
              "    }\n",
              "\n",
              "    .dataframe tbody tr th {\n",
              "        vertical-align: top;\n",
              "    }\n",
              "\n",
              "    .dataframe thead th {\n",
              "        text-align: right;\n",
              "    }\n",
              "</style>\n",
              "<table border=\"1\" class=\"dataframe\">\n",
              "  <thead>\n",
              "    <tr style=\"text-align: right;\">\n",
              "      <th></th>\n",
              "      <th>c</th>\n",
              "      <th>v</th>\n",
              "      <th>clauses_vars_ratio</th>\n",
              "      <th>vars_clauses_ratio</th>\n",
              "      <th>vcg_var_mean</th>\n",
              "      <th>vcg_var_coeff</th>\n",
              "      <th>vcg_var_min</th>\n",
              "      <th>vcg_var_max</th>\n",
              "      <th>vcg_var_entropy</th>\n",
              "      <th>vcg_clause_mean</th>\n",
              "      <th>...</th>\n",
              "      <th>rwh_0_max</th>\n",
              "      <th>rwh_1_mean</th>\n",
              "      <th>rwh_1_coeff</th>\n",
              "      <th>rwh_1_min</th>\n",
              "      <th>rwh_1_max</th>\n",
              "      <th>rwh_2_mean</th>\n",
              "      <th>rwh_2_coeff</th>\n",
              "      <th>rwh_2_min</th>\n",
              "      <th>rwh_2_max</th>\n",
              "      <th>target</th>\n",
              "    </tr>\n",
              "  </thead>\n",
              "  <tbody>\n",
              "    <tr>\n",
              "      <th>0</th>\n",
              "      <td>420</td>\n",
              "      <td>10</td>\n",
              "      <td>42.000000</td>\n",
              "      <td>0.023810</td>\n",
              "      <td>0.600000</td>\n",
              "      <td>0.000000</td>\n",
              "      <td>0.600000</td>\n",
              "      <td>0.600000</td>\n",
              "      <td>0.000000</td>\n",
              "      <td>0.600000</td>\n",
              "      <td>...</td>\n",
              "      <td>78750.0</td>\n",
              "      <td>0.000008</td>\n",
              "      <td>0.0</td>\n",
              "      <td>7.875000e-06</td>\n",
              "      <td>0.000008</td>\n",
              "      <td>2.385082e-21</td>\n",
              "      <td>0.0</td>\n",
              "      <td>2.385082e-21</td>\n",
              "      <td>2.385082e-21</td>\n",
              "      <td>1</td>\n",
              "    </tr>\n",
              "    <tr>\n",
              "      <th>1</th>\n",
              "      <td>230</td>\n",
              "      <td>20</td>\n",
              "      <td>11.500000</td>\n",
              "      <td>0.086957</td>\n",
              "      <td>0.137826</td>\n",
              "      <td>0.089281</td>\n",
              "      <td>0.117391</td>\n",
              "      <td>0.160870</td>\n",
              "      <td>2.180946</td>\n",
              "      <td>0.137826</td>\n",
              "      <td>...</td>\n",
              "      <td>6646875.0</td>\n",
              "      <td>17433.722184</td>\n",
              "      <td>1.0</td>\n",
              "      <td>2.981244e-12</td>\n",
              "      <td>34867.444369</td>\n",
              "      <td>1.727721e+04</td>\n",
              "      <td>1.0</td>\n",
              "      <td>1.358551e-53</td>\n",
              "      <td>3.455442e+04</td>\n",
              "      <td>0</td>\n",
              "    </tr>\n",
              "    <tr>\n",
              "      <th>2</th>\n",
              "      <td>240</td>\n",
              "      <td>16</td>\n",
              "      <td>15.000000</td>\n",
              "      <td>0.066667</td>\n",
              "      <td>0.300000</td>\n",
              "      <td>0.000000</td>\n",
              "      <td>0.300000</td>\n",
              "      <td>0.300000</td>\n",
              "      <td>0.000000</td>\n",
              "      <td>0.300000</td>\n",
              "      <td>...</td>\n",
              "      <td>500000.0</td>\n",
              "      <td>1525.878932</td>\n",
              "      <td>0.0</td>\n",
              "      <td>1.525879e+03</td>\n",
              "      <td>1525.878932</td>\n",
              "      <td>1.525879e+03</td>\n",
              "      <td>0.0</td>\n",
              "      <td>1.525879e+03</td>\n",
              "      <td>1.525879e+03</td>\n",
              "      <td>1</td>\n",
              "    </tr>\n",
              "    <tr>\n",
              "      <th>3</th>\n",
              "      <td>424</td>\n",
              "      <td>30</td>\n",
              "      <td>14.133333</td>\n",
              "      <td>0.070755</td>\n",
              "      <td>0.226415</td>\n",
              "      <td>0.485913</td>\n",
              "      <td>0.056604</td>\n",
              "      <td>0.452830</td>\n",
              "      <td>2.220088</td>\n",
              "      <td>0.226415</td>\n",
              "      <td>...</td>\n",
              "      <td>87500.0</td>\n",
              "      <td>0.000122</td>\n",
              "      <td>1.0</td>\n",
              "      <td>6.535723e-14</td>\n",
              "      <td>0.000245</td>\n",
              "      <td>8.218628e-07</td>\n",
              "      <td>1.0</td>\n",
              "      <td>1.499676e-61</td>\n",
              "      <td>1.643726e-06</td>\n",
              "      <td>0</td>\n",
              "    </tr>\n",
              "    <tr>\n",
              "      <th>4</th>\n",
              "      <td>162</td>\n",
              "      <td>19</td>\n",
              "      <td>8.526316</td>\n",
              "      <td>0.117284</td>\n",
              "      <td>0.139701</td>\n",
              "      <td>0.121821</td>\n",
              "      <td>0.111111</td>\n",
              "      <td>0.185185</td>\n",
              "      <td>1.940843</td>\n",
              "      <td>0.139701</td>\n",
              "      <td>...</td>\n",
              "      <td>5859400.0</td>\n",
              "      <td>16591.494310</td>\n",
              "      <td>1.0</td>\n",
              "      <td>6.912726e-42</td>\n",
              "      <td>33182.988621</td>\n",
              "      <td>1.665903e+04</td>\n",
              "      <td>1.0</td>\n",
              "      <td>0.000000e+00</td>\n",
              "      <td>3.331807e+04</td>\n",
              "      <td>1</td>\n",
              "    </tr>\n",
              "  </tbody>\n",
              "</table>\n",
              "<p>5 rows × 328 columns</p>\n",
              "</div>\n",
              "      <button class=\"colab-df-convert\" onclick=\"convertToInteractive('df-f2427ad7-76af-442c-8b16-098f522cc73c')\"\n",
              "              title=\"Convert this dataframe to an interactive table.\"\n",
              "              style=\"display:none;\">\n",
              "        \n",
              "  <svg xmlns=\"http://www.w3.org/2000/svg\" height=\"24px\"viewBox=\"0 0 24 24\"\n",
              "       width=\"24px\">\n",
              "    <path d=\"M0 0h24v24H0V0z\" fill=\"none\"/>\n",
              "    <path d=\"M18.56 5.44l.94 2.06.94-2.06 2.06-.94-2.06-.94-.94-2.06-.94 2.06-2.06.94zm-11 1L8.5 8.5l.94-2.06 2.06-.94-2.06-.94L8.5 2.5l-.94 2.06-2.06.94zm10 10l.94 2.06.94-2.06 2.06-.94-2.06-.94-.94-2.06-.94 2.06-2.06.94z\"/><path d=\"M17.41 7.96l-1.37-1.37c-.4-.4-.92-.59-1.43-.59-.52 0-1.04.2-1.43.59L10.3 9.45l-7.72 7.72c-.78.78-.78 2.05 0 2.83L4 21.41c.39.39.9.59 1.41.59.51 0 1.02-.2 1.41-.59l7.78-7.78 2.81-2.81c.8-.78.8-2.07 0-2.86zM5.41 20L4 18.59l7.72-7.72 1.47 1.35L5.41 20z\"/>\n",
              "  </svg>\n",
              "      </button>\n",
              "      \n",
              "  <style>\n",
              "    .colab-df-container {\n",
              "      display:flex;\n",
              "      flex-wrap:wrap;\n",
              "      gap: 12px;\n",
              "    }\n",
              "\n",
              "    .colab-df-convert {\n",
              "      background-color: #E8F0FE;\n",
              "      border: none;\n",
              "      border-radius: 50%;\n",
              "      cursor: pointer;\n",
              "      display: none;\n",
              "      fill: #1967D2;\n",
              "      height: 32px;\n",
              "      padding: 0 0 0 0;\n",
              "      width: 32px;\n",
              "    }\n",
              "\n",
              "    .colab-df-convert:hover {\n",
              "      background-color: #E2EBFA;\n",
              "      box-shadow: 0px 1px 2px rgba(60, 64, 67, 0.3), 0px 1px 3px 1px rgba(60, 64, 67, 0.15);\n",
              "      fill: #174EA6;\n",
              "    }\n",
              "\n",
              "    [theme=dark] .colab-df-convert {\n",
              "      background-color: #3B4455;\n",
              "      fill: #D2E3FC;\n",
              "    }\n",
              "\n",
              "    [theme=dark] .colab-df-convert:hover {\n",
              "      background-color: #434B5C;\n",
              "      box-shadow: 0px 1px 3px 1px rgba(0, 0, 0, 0.15);\n",
              "      filter: drop-shadow(0px 1px 2px rgba(0, 0, 0, 0.3));\n",
              "      fill: #FFFFFF;\n",
              "    }\n",
              "  </style>\n",
              "\n",
              "      <script>\n",
              "        const buttonEl =\n",
              "          document.querySelector('#df-f2427ad7-76af-442c-8b16-098f522cc73c button.colab-df-convert');\n",
              "        buttonEl.style.display =\n",
              "          google.colab.kernel.accessAllowed ? 'block' : 'none';\n",
              "\n",
              "        async function convertToInteractive(key) {\n",
              "          const element = document.querySelector('#df-f2427ad7-76af-442c-8b16-098f522cc73c');\n",
              "          const dataTable =\n",
              "            await google.colab.kernel.invokeFunction('convertToInteractive',\n",
              "                                                     [key], {});\n",
              "          if (!dataTable) return;\n",
              "\n",
              "          const docLinkHtml = 'Like what you see? Visit the ' +\n",
              "            '<a target=\"_blank\" href=https://colab.research.google.com/notebooks/data_table.ipynb>data table notebook</a>'\n",
              "            + ' to learn more about interactive tables.';\n",
              "          element.innerHTML = '';\n",
              "          dataTable['output_type'] = 'display_data';\n",
              "          await google.colab.output.renderOutput(dataTable, element);\n",
              "          const docLink = document.createElement('div');\n",
              "          docLink.innerHTML = docLinkHtml;\n",
              "          element.appendChild(docLink);\n",
              "        }\n",
              "      </script>\n",
              "    </div>\n",
              "  </div>\n",
              "  "
            ]
          },
          "metadata": {},
          "execution_count": 154
        }
      ]
    },
    {
      "cell_type": "code",
      "source": [
        "df.dtypes"
      ],
      "metadata": {
        "colab": {
          "base_uri": "https://localhost:8080/"
        },
        "id": "WOqpQTS-K8EN",
        "outputId": "782e4dfd-b9d5-45a6-d874-2fe1c5672459"
      },
      "execution_count": 155,
      "outputs": [
        {
          "output_type": "execute_result",
          "data": {
            "text/plain": [
              "c                       int64\n",
              "v                       int64\n",
              "clauses_vars_ratio    float64\n",
              "vars_clauses_ratio    float64\n",
              "vcg_var_mean          float64\n",
              "                       ...   \n",
              "rwh_2_mean            float64\n",
              "rwh_2_coeff           float64\n",
              "rwh_2_min             float64\n",
              "rwh_2_max             float64\n",
              "target                  int64\n",
              "Length: 328, dtype: object"
            ]
          },
          "metadata": {},
          "execution_count": 155
        }
      ]
    },
    {
      "cell_type": "code",
      "source": [
        "df['target'].value_counts()"
      ],
      "metadata": {
        "colab": {
          "base_uri": "https://localhost:8080/"
        },
        "id": "N8MCvTYTKw4Q",
        "outputId": "5c985de9-71c0-4ec9-9df9-dde25c9b923c"
      },
      "execution_count": 156,
      "outputs": [
        {
          "output_type": "execute_result",
          "data": {
            "text/plain": [
              "1    976\n",
              "0    953\n",
              "Name: target, dtype: int64"
            ]
          },
          "metadata": {},
          "execution_count": 156
        }
      ]
    },
    {
      "cell_type": "markdown",
      "source": [
        "Expected accuracy"
      ],
      "metadata": {
        "id": "u1CgjTpy0Bl3"
      }
    },
    {
      "cell_type": "code",
      "source": [
        "976/(976+953)"
      ],
      "metadata": {
        "id": "vUqwayXbPclg",
        "outputId": "097de6f4-62fe-4cdd-9694-faf62a3a807d",
        "colab": {
          "base_uri": "https://localhost:8080/"
        }
      },
      "execution_count": 157,
      "outputs": [
        {
          "output_type": "execute_result",
          "data": {
            "text/plain": [
              "0.5059616381544841"
            ]
          },
          "metadata": {},
          "execution_count": 157
        }
      ]
    },
    {
      "cell_type": "markdown",
      "source": [
        "Remove infinity and NAN"
      ],
      "metadata": {
        "id": "WY3-DJMX0Dfj"
      }
    },
    {
      "cell_type": "code",
      "source": [
        "import numpy as np\n",
        "df.replace([np.inf, -np.inf], np.nan,inplace=True)\n",
        "df = df.fillna(0)"
      ],
      "metadata": {
        "id": "_4LwBzmMQtHZ"
      },
      "execution_count": 158,
      "outputs": []
    },
    {
      "cell_type": "markdown",
      "source": [
        "Select the features i.e, all predictors"
      ],
      "metadata": {
        "id": "m_V51ECEJP9Q"
      }
    },
    {
      "cell_type": "code",
      "source": [
        "features = df.iloc[:,:-1]"
      ],
      "metadata": {
        "id": "LttZ6UUPYeez"
      },
      "execution_count": 159,
      "outputs": []
    },
    {
      "cell_type": "markdown",
      "source": [
        "Split into train and test set"
      ],
      "metadata": {
        "id": "2cSbEk8nJCNB"
      }
    },
    {
      "cell_type": "code",
      "source": [
        "import numpy as np\n",
        "from sklearn.model_selection import train_test_split\n",
        "\n",
        "X_train, X_test, Y_train, Y_test = train_test_split(features, df.target, random_state=420, test_size=0.30)"
      ],
      "metadata": {
        "id": "IEjqR2xLKjec"
      },
      "execution_count": 160,
      "outputs": []
    },
    {
      "cell_type": "markdown",
      "source": [
        "Check shape to make sure its correct"
      ],
      "metadata": {
        "id": "IvDLOSvBJI5P"
      }
    },
    {
      "cell_type": "code",
      "source": [
        "print(X_train.shape, X_test.shape, Y_train.shape, Y_test.shape)"
      ],
      "metadata": {
        "id": "p6nP7aqxQS97",
        "outputId": "2438c770-1f04-4600-ff86-16e6bd206fd4",
        "colab": {
          "base_uri": "https://localhost:8080/"
        }
      },
      "execution_count": 161,
      "outputs": [
        {
          "output_type": "stream",
          "name": "stdout",
          "text": [
            "(1350, 327) (579, 327) (1350,) (579,)\n"
          ]
        }
      ]
    },
    {
      "cell_type": "markdown",
      "source": [
        "# Tasks\n",
        "\n",
        "## Basic models and evaluation (5 Marks)\n",
        "\n",
        "Using Scikit-learn, train and evaluate K-NN and decision tree classifiers using 70% of the dataset from training and 30% for testing. For this part of the project, we are not interested in optimising the parameters; we just want to get an idea of the dataset. Compare the results of both classifiers."
      ],
      "metadata": {
        "id": "MTvkBPQvITf-"
      }
    },
    {
      "cell_type": "code",
      "source": [
        "from sklearn.neighbors import KNeighborsClassifier\n",
        "from sklearn import neighbors\n",
        "from sklearn import metrics\n",
        "from sklearn import model_selection\n",
        "\n",
        "knn_scores = []\n",
        "for i in range(1,15):\n",
        "  knn = KNeighborsClassifier(n_neighbors=i)\n",
        "  knn.fit(X_train, Y_train)\n",
        "  knn_scores.append((i,knn.score(X_test, Y_test)*100))"
      ],
      "metadata": {
        "id": "Zl0VXO0YH1nG"
      },
      "execution_count": 162,
      "outputs": []
    },
    {
      "cell_type": "markdown",
      "source": [
        "Best k-NN"
      ],
      "metadata": {
        "id": "qp2ZzzzJ0wTr"
      }
    },
    {
      "cell_type": "code",
      "source": [
        "list(sorted(knn_scores, key=lambda x: x[1], reverse=True))\n",
        "print(f'Best K: {knn_scores[0][0]} \\nAccuracy of k-NN: {knn_scores[0][1]}')"
      ],
      "metadata": {
        "colab": {
          "base_uri": "https://localhost:8080/"
        },
        "id": "qtpeM8f1qsyR",
        "outputId": "c000baca-af30-4007-d3bf-81e66cf8cbd0"
      },
      "execution_count": 163,
      "outputs": [
        {
          "output_type": "stream",
          "name": "stdout",
          "text": [
            "Best K: 1 \n",
            "Accuracy of k-NN: 81.69257340241796\n"
          ]
        }
      ]
    },
    {
      "cell_type": "markdown",
      "source": [
        "Decision Tree Classifier"
      ],
      "metadata": {
        "id": "ZKxg-0Wb02q_"
      }
    },
    {
      "cell_type": "code",
      "source": [
        "from sklearn.tree import DecisionTreeClassifier\n",
        "dtc = DecisionTreeClassifier(random_state=11,criterion='entropy')\n",
        "dtc.fit(X_train, Y_train)\n",
        "print(f'Accuracy of Decision Tree Classifier: {dtc.score(X_test, Y_test)*100}')"
      ],
      "metadata": {
        "colab": {
          "base_uri": "https://localhost:8080/"
        },
        "id": "jbY4aKZ_U5f3",
        "outputId": "a581cf81-f2ef-46c2-cded-b99cbcd4f2e4"
      },
      "execution_count": 164,
      "outputs": [
        {
          "output_type": "stream",
          "name": "stdout",
          "text": [
            "Accuracy of Decision Tree Classifier: 97.75474956822107\n"
          ]
        }
      ]
    },
    {
      "cell_type": "markdown",
      "source": [
        "# Robust evaluation (10 Marks)\n",
        "\n",
        "In this section, we are interested in more rigorous techniques by implementing more sophisticated methods, for instance:\n",
        "* Hold-out and cross-validation.\n",
        "* Hyper-parameter tuning.\n",
        "* Feature reduction.\n",
        "* Feature normalisation.\n",
        "\n",
        "Your report should provide concrete information of your reasoning; everything should be well-explained.\n",
        "\n",
        "Do not get stressed if the things you try do not improve the accuracy. The key to geting good marks is to show that you evaluated different methods and that you correctly selected the configuration."
      ],
      "metadata": {
        "id": "zADpr0f8IcGL"
      }
    },
    {
      "cell_type": "markdown",
      "source": [
        "## Feature Normalisation\n",
        "##### https://scikit-learn.org/stable/modules/generated/sklearn.preprocessing.MinMaxScaler.html\n",
        "Compare model accuracies of k-NN and Decision Tree Classifer before and after normalising the data."
      ],
      "metadata": {
        "id": "uG-cLcTncpHW"
      }
    },
    {
      "cell_type": "markdown",
      "source": [
        "MinMaxScalar"
      ],
      "metadata": {
        "id": "jdIEUMsfc6Jr"
      }
    },
    {
      "cell_type": "code",
      "source": [
        "from sklearn.preprocessing import MinMaxScaler\n",
        "\n",
        "mn_scale = MinMaxScaler()\n",
        "mn_scaled_xtrain = mn_scale.fit_transform(X_train)\n",
        "mn_scaled_xtest = mn_scale.fit_transform(X_test)"
      ],
      "metadata": {
        "id": "JtDF5Fkkc2hV"
      },
      "execution_count": 166,
      "outputs": []
    },
    {
      "cell_type": "markdown",
      "source": [
        "StandardScalar"
      ],
      "metadata": {
        "id": "YpB0k7ISc_go"
      }
    },
    {
      "cell_type": "code",
      "source": [
        "from sklearn.preprocessing import StandardScaler\n",
        "\n",
        "std_scale = StandardScaler()\n",
        "scaled_xtrain = std_scale.fit_transform(X_train)\n",
        "scaled_xtest = std_scale.fit_transform(X_test)"
      ],
      "metadata": {
        "id": "8edK86Llc4ss"
      },
      "execution_count": 169,
      "outputs": []
    },
    {
      "cell_type": "code",
      "source": [
        "# Unscaled\n",
        "knn = KNeighborsClassifier(n_neighbors=1)\n",
        "knn.fit(X_train, Y_train)\n",
        "dtc = DecisionTreeClassifier(random_state=11,criterion='entropy')\n",
        "dtc.fit(X_train, Y_train)\n",
        "print(f'Unscaled:\\nk-NN accuracy: {knn.score(X_test,Y_test)*100} \\nDtc accuracy: {dtc.score(X_test, Y_test)*100}')\n",
        "\n",
        "# MinMaxScalar\n",
        "knn.fit(mn_scaled_xtrain,Y_train)\n",
        "knn.score(mn_scaled_xtest, Y_test)\n",
        "dtc = DecisionTreeClassifier(random_state=11,criterion='entropy')\n",
        "dtc.fit(mn_scaled_xtrain, Y_train)\n",
        "print(f'\\nMinMaxScalar:\\nk-NN accuracy: {knn.score(mn_scaled_xtest,Y_test)*100} \\nDtc accuracy: {dtc.score(mn_scaled_xtest, Y_test)*100}')\n",
        "\n",
        "# StandardScalar\n",
        "knn.fit(scaled_xtrain,Y_train)\n",
        "knn.score(scaled_xtest, Y_test)\n",
        "dtc = DecisionTreeClassifier(random_state=11,criterion='entropy')\n",
        "dtc.fit(scaled_xtrain, Y_train)\n",
        "print(f'\\nStandardScalar:\\nk-NN accuracy: {knn.score(scaled_xtest,Y_test)*100} \\nDtc accuracy: {dtc.score(scaled_xtest, Y_test)*100}')"
      ],
      "metadata": {
        "colab": {
          "base_uri": "https://localhost:8080/"
        },
        "id": "37ad34n6cBy5",
        "outputId": "e6966c2e-3993-4b70-d701-f707e2bbcc51"
      },
      "execution_count": 170,
      "outputs": [
        {
          "output_type": "stream",
          "name": "stdout",
          "text": [
            "Unscaled:\n",
            "k-NN accuracy: 81.69257340241796 \n",
            "Dtc accuracy: 97.75474956822107\n",
            "\n",
            "MinMaxScalar:\n",
            "k-NN accuracy: 89.98272884283247 \n",
            "Dtc accuracy: 98.10017271157167\n",
            "\n",
            "StandardScalar:\n",
            "k-NN accuracy: 91.8825561312608 \n",
            "Dtc accuracy: 94.12780656303973\n"
          ]
        }
      ]
    },
    {
      "cell_type": "markdown",
      "source": [
        "## Cross Validation</br>\n",
        "##### https://scikit-learn.org/stable/modules/cross_validation.html\n",
        "Performed 5-fold CV for the task:<br>\n",
        "Cross-validation on the k-NN model with best accuracy (K=1)<br> Cross-validation on Decision Tree Classifier"
      ],
      "metadata": {
        "id": "Gdy4gpfu1FMY"
      }
    },
    {
      "cell_type": "code",
      "source": [
        "from sklearn.model_selection import cross_val_score\n",
        "knn = KNeighborsClassifier(n_neighbors=1)\n",
        "knn.fit(scaled_xtrain, Y_train)\n",
        "dtc = DecisionTreeClassifier(random_state=11,criterion='entropy')\n",
        "dtc.fit(scaled_xtrain, Y_train)\n",
        "\n",
        "# Cross-validated scores\n",
        "knn_cv_scores = cross_val_score(knn, scaled_xtest, Y_test, cv=10)\n",
        "dtc_cv_scores = cross_val_score(dtc, scaled_xtest, Y_test, cv=10)\n",
        "print(f'k-NN cv_scores when k=1: {knn_cv_scores*100} \\nDecision Tree Classifier cv_scores: {dtc_cv_scores*100}')"
      ],
      "metadata": {
        "id": "tvBZH6ilInsA",
        "colab": {
          "base_uri": "https://localhost:8080/"
        },
        "outputId": "ffdec97d-7b76-43c3-fe85-f245b992cf11"
      },
      "execution_count": 171,
      "outputs": [
        {
          "output_type": "stream",
          "name": "stdout",
          "text": [
            "k-NN cv_scores when k=1: [93.10344828 89.65517241 86.20689655 89.65517241 82.75862069 89.65517241\n",
            " 94.82758621 91.37931034 87.93103448 87.71929825] \n",
            "Decision Tree Classifier cv_scores: [ 98.27586207  94.82758621 100.          98.27586207  98.27586207\n",
            "  98.27586207  96.55172414 100.          96.55172414  94.73684211]\n"
          ]
        }
      ]
    },
    {
      "cell_type": "code",
      "source": [
        "print(f'k-NN cv_scores when k=1: {knn_cv_scores.mean()*100} \\nDecision Tree Classifier cv_scores: {dtc_cv_scores.mean()*100}')"
      ],
      "metadata": {
        "colab": {
          "base_uri": "https://localhost:8080/"
        },
        "id": "vwZDhDur10ab",
        "outputId": "455a171e-f5b1-4cc1-bb97-1dbe4942c131"
      },
      "execution_count": 172,
      "outputs": [
        {
          "output_type": "stream",
          "name": "stdout",
          "text": [
            "k-NN cv_scores when k=1: 89.28917120387175 \n",
            "Decision Tree Classifier cv_scores: 97.57713248638838\n"
          ]
        }
      ]
    },
    {
      "cell_type": "markdown",
      "source": [
        "## Hyperparameter Tuning\n",
        "##### https://scikit-learn.org/stable/modules/generated/sklearn.model_selection.GridSearchCV.html\n",
        "Tune k-NN and Decision Tree Classifier using GridSearchCV"
      ],
      "metadata": {
        "id": "cz-mv-lB8CNW"
      }
    },
    {
      "cell_type": "code",
      "source": [
        "from sklearn.model_selection import GridSearchCV\n",
        "\n",
        "# knn grid cv\n",
        "knn = KNeighborsClassifier()\n",
        "parameters = dict(n_neighbors = list(range(1,20,2)),\n",
        "                  p = [1,2],\n",
        "                  weights = ['uniform','distance'])\n",
        "knn_gs = GridSearchCV(knn, parameters)\n",
        "knn_gs.fit(scaled_xtrain, Y_train)\n",
        "print(f'k-NN GridSearch: \\nAccuracy: {knn_gs.score(scaled_xtest,Y_test)*100} \\nBest Estimator: {knn_gs.best_estimator_} \\nParameters used: {knn_gs.best_params_}')\n"
      ],
      "metadata": {
        "colab": {
          "base_uri": "https://localhost:8080/"
        },
        "id": "B-QapvaV8F1F",
        "outputId": "2312d0e3-6599-4711-9958-d22f43ead5e2"
      },
      "execution_count": 186,
      "outputs": [
        {
          "output_type": "stream",
          "name": "stdout",
          "text": [
            "k-NN GridSearch: \n",
            "Accuracy: 91.36442141623489 \n",
            "Best Estimator: KNeighborsClassifier(n_neighbors=7, p=1, weights='distance') \n",
            "Parameters used: {'n_neighbors': 7, 'p': 1, 'weights': 'distance'}\n"
          ]
        }
      ]
    },
    {
      "cell_type": "code",
      "source": [
        "# Dtc grid cv\n",
        "dtc = DecisionTreeClassifier(random_state=11)\n",
        "parameters = dict(criterion = ['gini', 'entropy'],\n",
        "                  splitter = ['best', 'random'],\n",
        "                  max_depth = list(range(1,30)))\n",
        "dtc_gs = GridSearchCV(dtc, parameters)\n",
        "dtc_gs.fit(scaled_xtrain, Y_train)\n",
        "print(f'\\nDtc GridSearch: \\nAccuracy: {dtc_gs.score(scaled_xtest,Y_test)*100} \\nBest Estimator: {dtc_gs.best_estimator_} \\nParameters used: {dtc_gs.best_params_}')\n"
      ],
      "metadata": {
        "colab": {
          "base_uri": "https://localhost:8080/"
        },
        "id": "minMRsuh2QAL",
        "outputId": "4c468cb3-25dc-4eef-fd60-e0aacc25337c"
      },
      "execution_count": 187,
      "outputs": [
        {
          "output_type": "stream",
          "name": "stdout",
          "text": [
            "\n",
            "Dtc GridSearch: \n",
            "Accuracy: 94.81865284974094 \n",
            "Best Estimator: DecisionTreeClassifier(criterion='entropy', max_depth=5, random_state=11) \n",
            "Parameters used: {'criterion': 'entropy', 'max_depth': 5, 'splitter': 'best'}\n"
          ]
        }
      ]
    },
    {
      "cell_type": "markdown",
      "source": [
        "## Feature reduction\n",
        "### Principle Component Analysis\n",
        "##### https://scikit-learn.org/stable/modules/generated/sklearn.decomposition.PCA.html\n",
        "Made use of Principle Component Analysis to reduce the number of features in the models<br> 98% of information retained \n"
      ],
      "metadata": {
        "id": "TJrwfNe8cIaY"
      }
    },
    {
      "cell_type": "code",
      "source": [
        "from sklearn.feature_selection import RFE\n",
        "from sklearn.decomposition import PCA\n",
        "from sklearn.pipeline import make_pipeline\n",
        "\n",
        "pca = PCA(n_components=.98, random_state=11)\n",
        "pca.fit(mn_scaled_xtrain)\n",
        "pca.fit(mn_scaled_xtest)\n",
        "pca_xtrain = pca.transform(mn_scaled_xtrain)\n",
        "pca_xtest = pca.transform(mn_scaled_xtest)\n",
        "\n",
        "# kNN\n",
        "knn = KNeighborsClassifier(n_neighbors=1)\n",
        "knn.fit(pca_xtrain, Y_train)\n",
        "print(f'Accuracy of Decision Tree Classifier after PCA reduction: {knn.score(pca_xtest,Y_test)*100}')\n",
        "\n",
        "# Dtc\n",
        "dtc = DecisionTreeClassifier(random_state=11,criterion='entropy')\n",
        "dtc.fit(pca_xtrain, Y_train)\n",
        "print(f'Accuracy of Decision Tree Classifier after PCA reduction: {dtc.score(pca_xtest,Y_test)*100}')\n"
      ],
      "metadata": {
        "colab": {
          "base_uri": "https://localhost:8080/"
        },
        "id": "yzGrj16NwQHD",
        "outputId": "2f12fb38-f1b5-4a6b-b3e4-4e389db5264b"
      },
      "execution_count": 185,
      "outputs": [
        {
          "output_type": "stream",
          "name": "stdout",
          "text": [
            "Accuracy of Decision Tree Classifier after PCA reduction: 90.32815198618307\n",
            "Accuracy of Decision Tree Classifier after PCA reduction: 85.83765112262522\n"
          ]
        }
      ]
    },
    {
      "cell_type": "markdown",
      "source": [
        "# New classifier (10 Marks)\n",
        "\n",
        "Replicate the previous task for a classifier that we did not cover in class. So different than K-NN and decision trees. Briefly describe your choice.\n",
        "Try to create the best model for the given dataset.\n",
        "Save your best model into your github. And create a single code cell that loads it and evaluate it on the following test dataset:\n",
        "https://github.com/andvise/DataAnalyticsDatasets/blob/main/dm_assignment2/sat_dataset_test.csv\n",
        "\n",
        "This link currently contains a sample of the training set. The real test set will be released after the submission. I should be able to run the code cell independently, load all the libraries you need as well."
      ],
      "metadata": {
        "id": "FYoMg0EZIrNd"
      }
    },
    {
      "cell_type": "markdown",
      "source": [
        "## AdaBoost Classifer\n",
        "##### https://scikit-learn.org/stable/modules/generated/sklearn.ensemble.AdaBoostClassifier.html#sklearn.ensemble.AdaBoostClassifier"
      ],
      "metadata": {
        "id": "U7Wm8wJRIhwh"
      }
    },
    {
      "cell_type": "code",
      "source": [
        "sat_df = pd.read_csv(\"https://github.com/andvise/DataAnalyticsDatasets/blob/main/dm_assignment2/sat_dataset_test.csv?raw=true\")\n",
        "sat_df.shape"
      ],
      "metadata": {
        "id": "QRJXrY2hI32F",
        "colab": {
          "base_uri": "https://localhost:8080/"
        },
        "outputId": "6735a3a0-b857-49ce-e0c2-25aacea2d2cd"
      },
      "execution_count": 188,
      "outputs": [
        {
          "output_type": "execute_result",
          "data": {
            "text/plain": [
              "(483, 328)"
            ]
          },
          "metadata": {},
          "execution_count": 188
        }
      ]
    },
    {
      "cell_type": "markdown",
      "source": [
        "Remove infinity and NANs"
      ],
      "metadata": {
        "id": "R3Z8zBdz4QZI"
      }
    },
    {
      "cell_type": "code",
      "source": [
        "import numpy as np\n",
        "sat_df.replace([np.inf, -np.inf], np.nan,inplace=True)\n",
        "sat_df = sat_df.fillna(0)"
      ],
      "metadata": {
        "id": "LJHhilZyMazU"
      },
      "execution_count": 189,
      "outputs": []
    },
    {
      "cell_type": "markdown",
      "source": [
        "Select features i.e., all attributes expect target"
      ],
      "metadata": {
        "id": "ck402luq4WHS"
      }
    },
    {
      "cell_type": "code",
      "source": [
        "features = sat_df.iloc[:,:-1]"
      ],
      "metadata": {
        "id": "W-L3XbqxMkjN"
      },
      "execution_count": 190,
      "outputs": []
    },
    {
      "cell_type": "markdown",
      "source": [
        "Split dataset into train and test"
      ],
      "metadata": {
        "id": "VjWmSO0k4fZ2"
      }
    },
    {
      "cell_type": "code",
      "source": [
        "import numpy as np\n",
        "from sklearn.model_selection import train_test_split\n",
        "\n",
        "X_train, X_test, Y_train, Y_test = train_test_split(features, sat_df.target, random_state=11, test_size=0.30)"
      ],
      "metadata": {
        "id": "pKrVRoZiMqD6"
      },
      "execution_count": 191,
      "outputs": []
    },
    {
      "cell_type": "markdown",
      "source": [
        "StandardScalar"
      ],
      "metadata": {
        "id": "-6VUcWQx7ke1"
      }
    },
    {
      "cell_type": "code",
      "source": [
        "from sklearn.preprocessing import StandardScaler\n",
        "\n",
        "std_scale = StandardScaler()\n",
        "std_scaled_xtrain = std_scale.fit_transform(X_train)\n",
        "std_scaled_xtest = std_scale.fit_transform(X_test)"
      ],
      "metadata": {
        "id": "-V6Bzn8q7m9k"
      },
      "execution_count": 201,
      "outputs": []
    },
    {
      "cell_type": "markdown",
      "source": [
        "Hyperparameter Search and fit AdaBoostClassifier"
      ],
      "metadata": {
        "id": "eAl3ChF14obL"
      }
    },
    {
      "cell_type": "code",
      "source": [
        "from sklearn.ensemble import AdaBoostClassifier\n",
        "\n",
        "# hyperparameter search\n",
        "parameters = dict(algorithm = ['SAMME', 'SAMME.R'],\n",
        "                  learning_rate = [0.2,0.4,0.6,0.8,1.0])\n",
        "abc = AdaBoostClassifier(random_state=11)\n",
        "gs_abc = GridSearchCV(estimator = abc, param_grid = parameters, cv = 10)\n",
        "\n",
        "# fit model\n",
        "gs_abc.fit(std_scaled_xtrain, Y_train)\n",
        "print(f'Accurary of AdaBoostClassifier: {gs_abc.score(std_scaled_xtest, Y_test)*100}')"
      ],
      "metadata": {
        "colab": {
          "base_uri": "https://localhost:8080/"
        },
        "id": "uuUrZNGNKD_A",
        "outputId": "de19643f-7685-4ab0-9c05-c7322b52f4a0"
      },
      "execution_count": 230,
      "outputs": [
        {
          "output_type": "stream",
          "name": "stdout",
          "text": [
            "Accurary of AdaBoostClassifier: 100.0\n"
          ]
        }
      ]
    },
    {
      "cell_type": "markdown",
      "source": [
        "# <font color=\"blue\">FOR GRADING ONLY</font>\n",
        "\n",
        "Save your best model into your github. And create a single code cell that loads it and evaluate it on the following test dataset: \n",
        "https://github.com/andvise/DataAnalyticsDatasets/blob/main/dm_assignment2/sat_dataset_test.csv"
      ],
      "metadata": {
        "id": "Q01BjiiCJTR4"
      }
    },
    {
      "cell_type": "code",
      "source": [
        "from joblib import dump, load\n",
        "from sklearn.pipeline import Pipeline\n",
        "from io import BytesIO\n",
        "import requests\n",
        "from sklearn.pipeline import Pipeline\n",
        "\n",
        "# INSERT YOUR MODEL'S URL\n",
        "mLink = 'URL_OF_YOUR_MODEL_SAVED_IN_YOUR_GITHUB_REPOSITORY?raw=true'\n",
        "mfile = BytesIO(requests.get(mLink).content)\n",
        "model = load(mfile)\n",
        "# YOUR CODE HERE"
      ],
      "metadata": {
        "id": "IWx4lyuQI929"
      },
      "execution_count": null,
      "outputs": []
    },
    {
      "cell_type": "code",
      "source": [
        ""
      ],
      "metadata": {
        "id": "w-k6H-1ZKTYo"
      },
      "execution_count": null,
      "outputs": []
    }
  ]
}